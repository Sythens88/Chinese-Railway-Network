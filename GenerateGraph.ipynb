{
 "cells": [
  {
   "cell_type": "code",
   "execution_count": 1,
   "metadata": {},
   "outputs": [],
   "source": [
    "import numpy as np\n",
    "import networkx as nx\n",
    "from collections import Counter\n",
    "import matplotlib.pyplot as plt\n",
    "\n",
    "def merge(lists):\n",
    "    out = []\n",
    "    for l in lists:\n",
    "        out += l\n",
    "    return out"
   ]
  },
  {
   "cell_type": "markdown",
   "metadata": {},
   "source": [
    "# Read Data"
   ]
  },
  {
   "cell_type": "code",
   "execution_count": 2,
   "metadata": {},
   "outputs": [],
   "source": [
    "def read_data(name):\n",
    "    railway = {}\n",
    "    with open('data/train_'+name+'.txt') as f:\n",
    "        for line in f.readlines():\n",
    "            rail_name, station = line.split(':')\n",
    "            railway[rail_name] = station[:-1].split(',')\n",
    "    return railway"
   ]
  },
  {
   "cell_type": "code",
   "execution_count": 3,
   "metadata": {},
   "outputs": [],
   "source": [
    "railway_type = ['g','d','k','t','c','z','n']\n",
    "railway = {r_type:read_data(r_type) for r_type in railway_type}"
   ]
  },
  {
   "cell_type": "markdown",
   "metadata": {},
   "source": [
    "# Generate Graph\n",
    "\n",
    "We generate following graphs for different use cases:\n",
    "\n",
    "1. Stratified Graph\n",
    "2. Directed Whole Graph\n",
    "3. Undirected Whole Graph"
   ]
  },
  {
   "cell_type": "code",
   "execution_count": 4,
   "metadata": {},
   "outputs": [],
   "source": [
    "def Dir2Undir(graph):\n",
    "    graph_un = graph.to_undirected()\n",
    "    for edge in graph.edges:\n",
    "        weight1 = graph[edge[0]][edge[1]]['weight']\n",
    "        try:\n",
    "            weight2 = graph[edge[1]][edge[0]]['weight']\n",
    "        except:\n",
    "            weight2 = 0\n",
    "        graph_un[edge[0]][edge[1]]['weight'] = weight1 + weight2\n",
    "    return graph_un"
   ]
  },
  {
   "cell_type": "code",
   "execution_count": 5,
   "metadata": {},
   "outputs": [],
   "source": [
    "def GenGraph(rail_dict,directed=True):\n",
    "    nodes = list(set(merge(rail_dict.values())))\n",
    "    \n",
    "    lines = list(rail_dict.values())\n",
    "    line_connect = [[line[i]+'-'+line[i+1] for i in range(len(line)-1)]\\\n",
    "                    for line in lines]\n",
    "    line_connect = merge(line_connect)\n",
    "    line_connect = dict(Counter(line_connect))\n",
    "    \n",
    "    graph = nx.DiGraph()\n",
    "    for node in nodes:\n",
    "        graph.add_node(node,name = node)\n",
    "    \n",
    "    for key, value in line_connect.items():\n",
    "        depart, dest = key.split('-')\n",
    "        if depart!=dest:\n",
    "            graph.add_edge(depart, dest, weight = value)\n",
    "    \n",
    "    if not directed:\n",
    "        graph = Dir2Undir(graph)\n",
    "    \n",
    "    return graph"
   ]
  },
  {
   "cell_type": "markdown",
   "metadata": {},
   "source": [
    "For the directed graph, the weight of edge `a->b` equals to the number of trains passing this two stations continously. And for the undirected graph, the weight of edge `(a,b)` equals to the sum of `a->b` and `b->a` of that in directed graph.\n",
    "\n",
    "We can build a directed graph by:\n",
    "\n",
    "```\n",
    "graph = GenGraph(rail_dict)\n",
    "```\n",
    "\n",
    "and undirected graph by:\n",
    "\n",
    "```\n",
    "graph = GenGraph(rail_dict,directed=False)\n",
    "```\n",
    "\n",
    "or changing from a directed graph by the function `Dir2Undir`."
   ]
  },
  {
   "cell_type": "code",
   "execution_count": 6,
   "metadata": {},
   "outputs": [],
   "source": [
    "# whole directed graph\n",
    "all_railway = {}\n",
    "for rail in railway.values():\n",
    "    all_railway.update(rail)\n",
    "\n",
    "graph = GenGraph(all_railway)\n",
    "nx.write_edgelist(graph,'graph/whole_directed_graph.g')"
   ]
  },
  {
   "cell_type": "code",
   "execution_count": 7,
   "metadata": {},
   "outputs": [],
   "source": [
    "# whole undirected graph\n",
    "all_railway = {}\n",
    "for rail in railway.values():\n",
    "    all_railway.update(rail)\n",
    "\n",
    "graph = GenGraph(all_railway,directed=False)\n",
    "nx.write_edgelist(graph,'graph/whole_undirected_graph.g')"
   ]
  },
  {
   "cell_type": "code",
   "execution_count": 8,
   "metadata": {},
   "outputs": [],
   "source": [
    "# stratified graph\n",
    "\n",
    "for t in railway_type:\n",
    "    graph = GenGraph(railway[t])\n",
    "    nx.write_edgelist(graph,'graph/'+t+'_directed_graph.g')\n",
    "    graph = GenGraph(railway[t],directed=False)\n",
    "    nx.write_edgelist(graph,'graph/'+t+'_undirected_graph.g')"
   ]
  },
  {
   "cell_type": "markdown",
   "metadata": {},
   "source": [
    "You can save and read graph by:\n",
    "\n",
    "```\n",
    "nx.write_edgelist(graph,'railway.g')\n",
    "graph = nx.read_edgelist('railway.g')\n",
    "```"
   ]
  }
 ],
 "metadata": {
  "kernelspec": {
   "display_name": "Python 3",
   "language": "python",
   "name": "python3"
  },
  "language_info": {
   "codemirror_mode": {
    "name": "ipython",
    "version": 3
   },
   "file_extension": ".py",
   "mimetype": "text/x-python",
   "name": "python",
   "nbconvert_exporter": "python",
   "pygments_lexer": "ipython3",
   "version": "3.8.5"
  }
 },
 "nbformat": 4,
 "nbformat_minor": 4
}
