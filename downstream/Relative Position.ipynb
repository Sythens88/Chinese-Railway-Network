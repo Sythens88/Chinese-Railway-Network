{
 "cells": [
  {
   "cell_type": "markdown",
   "metadata": {},
   "source": [
    "# Relative Position\n",
    "\n",
    "We hope the results like:\n",
    "\n",
    "```\n",
    "vec(King)-vec(Queen)=vec(Man)-vec(Women)\n",
    "```"
   ]
  },
  {
   "cell_type": "code",
   "execution_count": 1,
   "metadata": {},
   "outputs": [],
   "source": [
    "import pandas as pd\n",
    "import numpy as np\n",
    "import scipy.spatial as S"
   ]
  },
  {
   "cell_type": "code",
   "execution_count": 2,
   "metadata": {},
   "outputs": [],
   "source": [
    "def find_nearest(query_vec,data):\n",
    "    dist = [S.distance.cosine(vec,query_vec) for vec in data.values]\n",
    "    result = dict(zip(data.index,dist))\n",
    "    result = {k:v for k,v in sorted(result.items(), key=lambda item:item[1])}\n",
    "    return list(result.items())[:10]"
   ]
  },
  {
   "cell_type": "markdown",
   "metadata": {},
   "source": [
    "# Random Walk"
   ]
  },
  {
   "cell_type": "code",
   "execution_count": 3,
   "metadata": {},
   "outputs": [
    {
     "data": {
      "text/plain": [
       "[('北京南', 0.0668191678690836),\n",
       " ('武清', 0.1567022509415773),\n",
       " ('廊坊', 0.18006563161908296),\n",
       " ('沧州西', 0.18499166576625725),\n",
       " ('天津南', 0.19074216714217274),\n",
       " ('霸州西', 0.21223660046278459),\n",
       " ('德州东', 0.2191139033735986),\n",
       " ('蚌埠', 0.2425349078207888),\n",
       " ('潍坊北', 0.24811281934418894),\n",
       " ('济南西', 0.24904582928117458)]"
      ]
     },
     "execution_count": 3,
     "metadata": {},
     "output_type": "execute_result"
    }
   ],
   "source": [
    "data = pd.read_csv('../embedding/embedding/random_walk_whole_graph_128.csv',index_col=0)\n",
    "query_vec = data.loc['北京南'].values-(data.loc['上海'].values-data.loc['昆山南'].values)\n",
    "find_nearest(query_vec,data)"
   ]
  },
  {
   "cell_type": "markdown",
   "metadata": {},
   "source": [
    "# Prob Walk"
   ]
  },
  {
   "cell_type": "code",
   "execution_count": 4,
   "metadata": {},
   "outputs": [
    {
     "data": {
      "text/plain": [
       "[('北京南', 0.04057343420337156),\n",
       " ('天津南', 0.10846916524679262),\n",
       " ('武清', 0.10943177592482478),\n",
       " ('廊坊', 0.12436003968848774),\n",
       " ('沧州西', 0.1320014855726681),\n",
       " ('天津西', 0.15675932870423015),\n",
       " ('德州东', 0.1732513432842595),\n",
       " ('天津', 0.19353906982159097),\n",
       " ('济南西', 0.19405468229782985),\n",
       " ('滨海西', 0.21440206531473072)]"
      ]
     },
     "execution_count": 4,
     "metadata": {},
     "output_type": "execute_result"
    }
   ],
   "source": [
    "data = pd.read_csv('../embedding/embedding/prob_walk_whole_graph_128.csv',index_col=0)\n",
    "query_vec = data.loc['北京南'].values-(data.loc['上海'].values-data.loc['昆山南'].values)\n",
    "find_nearest(query_vec,data)"
   ]
  }
 ],
 "metadata": {
  "kernelspec": {
   "display_name": "Python 3",
   "language": "python",
   "name": "python3"
  },
  "language_info": {
   "codemirror_mode": {
    "name": "ipython",
    "version": 3
   },
   "file_extension": ".py",
   "mimetype": "text/x-python",
   "name": "python",
   "nbconvert_exporter": "python",
   "pygments_lexer": "ipython3",
   "version": "3.8.5"
  }
 },
 "nbformat": 4,
 "nbformat_minor": 4
}
