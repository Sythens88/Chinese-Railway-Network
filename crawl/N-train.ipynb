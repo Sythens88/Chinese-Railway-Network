{
 "cells": [
  {
   "cell_type": "markdown",
   "metadata": {},
   "source": [
    "# N-train"
   ]
  },
  {
   "cell_type": "code",
   "execution_count": null,
   "metadata": {},
   "outputs": [],
   "source": [
    "from crawl import crawl_list\n",
    "\n",
    "with open('train_name.txt','r') as f:\n",
    "    train_list = f.read().split('\\n')\n",
    "    \n",
    "train_list = [train for train in train_list if train.isdigit()]"
   ]
  },
  {
   "cell_type": "code",
   "execution_count": null,
   "metadata": {},
   "outputs": [],
   "source": [
    "trains, download_failed = crawl_list(train_list)"
   ]
  },
  {
   "cell_type": "code",
   "execution_count": null,
   "metadata": {},
   "outputs": [],
   "source": [
    "with open('./../data/train_n.txt', \"w\") as f:\n",
    "    f.write('\\n'.join(trains))\n",
    "    \n",
    "with open('./../data/except/train_n.txt', \"w\") as f:\n",
    "    f.write('\\n'.join(download_failed))"
   ]
  }
 ],
 "metadata": {
  "kernelspec": {
   "display_name": "Python 3",
   "language": "python",
   "name": "python3"
  },
  "language_info": {
   "codemirror_mode": {
    "name": "ipython",
    "version": 3
   },
   "file_extension": ".py",
   "mimetype": "text/x-python",
   "name": "python",
   "nbconvert_exporter": "python",
   "pygments_lexer": "ipython3",
   "version": "3.8.5"
  }
 },
 "nbformat": 4,
 "nbformat_minor": 4
}
