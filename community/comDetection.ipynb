{
 "cells": [
  {
   "cell_type": "markdown",
   "metadata": {},
   "source": [
    "# Community Detection"
   ]
  },
  {
   "cell_type": "code",
   "execution_count": 1,
   "metadata": {},
   "outputs": [],
   "source": [
    "import networkx as nx\n",
    "import numpy as np\n",
    "import pandas as pd\n",
    "import random\n",
    "import torch\n",
    "import torch.nn as nn\n",
    "import torch.nn.functional as F\n",
    "import torch.utils.data as tud\n",
    "from tqdm import tqdm\n",
    "import matplotlib.pyplot as plt\n",
    "import os\n",
    "import warnings\n",
    "plt.rcParams['font.sans-serif'] = [u'SimHei']\n",
    "plt.rcParams['axes.unicode_minus'] = False\n",
    "warnings.filterwarnings(\"ignore\")\n",
    "os.environ[\"KMP_DUPLICATE_LIB_OK\"]=\"TRUE\"\n",
    "np.random.seed(0)"
   ]
  },
  {
   "cell_type": "code",
   "execution_count": 2,
   "metadata": {},
   "outputs": [
    {
     "name": "stdout",
     "output_type": "stream",
     "text": [
      "Using matplotlib backend: Qt5Agg\n"
     ]
    }
   ],
   "source": [
    "import matplotlib\n",
    "%matplotlib auto\n",
    "matplotlib.use('Qt5Agg')"
   ]
  },
  {
   "cell_type": "code",
   "execution_count": 3,
   "metadata": {},
   "outputs": [],
   "source": [
    "G = nx.read_edgelist('../graph/whole_undirected_graph.g')"
   ]
  },
  {
   "cell_type": "markdown",
   "metadata": {},
   "source": [
    "###  Louvain algorithm"
   ]
  },
  {
   "cell_type": "markdown",
   "metadata": {},
   "source": [
    "`community` is a Python library for detecting community structure in graphs. It implements Louvain algorithm to discover the best community partition. The library can also be used to visualize these algorithms.\n",
    "\n",
    "Another famous method to detect community is the Girvan-Newman(GN) algorithm.\n",
    "\n",
    "In the following part, We'll apply these two algorithms to our dataset."
   ]
  },
  {
   "cell_type": "code",
   "execution_count": 4,
   "metadata": {},
   "outputs": [],
   "source": [
    "import community"
   ]
  },
  {
   "cell_type": "code",
   "execution_count": 5,
   "metadata": {},
   "outputs": [
    {
     "data": {
      "text/plain": [
       "30"
      ]
     },
     "execution_count": 5,
     "metadata": {},
     "output_type": "execute_result"
    }
   ],
   "source": [
    "# 社区分割\n",
    "part = community.best_partition(G,random_state=333)\n",
    "values = [part.get(node) for node in G.nodes()]\n",
    "max(values) # 划分的社区数目"
   ]
  },
  {
   "cell_type": "code",
   "execution_count": 6,
   "metadata": {},
   "outputs": [
    {
     "name": "stdout",
     "output_type": "stream",
     "text": [
      "0.8444919391107967\n"
     ]
    }
   ],
   "source": [
    "# 计算模块度\n",
    "mod = community.modularity(part,G)\n",
    "print(mod)"
   ]
  },
  {
   "cell_type": "code",
   "execution_count": 7,
   "metadata": {},
   "outputs": [],
   "source": [
    "# 可视化(原图布局)\n",
    "nx.draw_spring(G,node_color = values, node_size=20, width=0.3, alpha=0.3, with_labels=False)\n",
    "plt.show() #a"
   ]
  },
  {
   "cell_type": "code",
   "execution_count": 8,
   "metadata": {},
   "outputs": [],
   "source": [
    "# 可视化(社区布局) #原图布局和社区布局的区别？\n",
    "V = [node for node in G.nodes()]\n",
    "com_dict = {node:com for node, com in zip(V, values)}\n",
    "com = [[V[i] for i in range(G.number_of_nodes()) if values[i] == j] for j in range(max(values)+1)]\n",
    "\n",
    "G_graph = nx.Graph()\n",
    "for each in com:\n",
    "  G_graph.update(nx.subgraph(G, each))\n",
    "color = [com_dict[node] for node in G_graph.nodes()]\n",
    "\n",
    "pos = nx.spring_layout(G_graph, seed=4)\n",
    "nx.draw(G, pos,  node_color = values, with_labels=False, node_size=20, width=0.3, alpha=0.3)\n",
    "plt.show()"
   ]
  },
  {
   "cell_type": "code",
   "execution_count": 9,
   "metadata": {},
   "outputs": [
    {
     "name": "stdout",
     "output_type": "stream",
     "text": [
      "center for group 1 :  ('赤峰南', 0.10869565217391304)\n",
      "center for group 2 :  ('成都东', 0.3106796116504854)\n",
      "center for group 3 :  ('广州南', 0.29464285714285715)\n",
      "center for group 4 :  ('牡丹江', 0.12244897959183673)\n",
      "center for group 5 :  ('南昌西', 0.30952380952380953)\n",
      "center for group 6 :  ('长沙', 0.25773195876288657)\n",
      "center for group 7 :  ('南宁', 0.21951219512195122)\n",
      "center for group 8 :  ('太原南', 0.23333333333333334)\n",
      "center for group 9 :  ('沈阳', 0.1326530612244898)\n",
      "center for group 10 :  ('盐津北', 0.05172413793103448)\n",
      "center for group 11 :  ('莱阳', 0.21649484536082475)\n",
      "center for group 12 :  ('唐山', 0.35211267605633806)\n",
      "center for group 13 :  ('阜阳', 0.2698412698412698)\n",
      "center for group 14 :  ('郑州', 0.3333333333333333)\n",
      "center for group 15 :  ('仲恺', 0.5882352941176471)\n",
      "center for group 16 :  ('崇州', 0.9)\n",
      "center for group 17 :  ('合肥南', 0.23595505617977527)\n",
      "center for group 18 :  ('怀化', 0.11594202898550725)\n",
      "center for group 19 :  ('月华', 0.058823529411764705)\n",
      "center for group 20 :  ('西安', 0.1419753086419753)\n",
      "center for group 21 :  ('集宁南', 0.088)\n",
      "center for group 22 :  ('苏州', 0.20270270270270271)\n",
      "center for group 23 :  ('重庆北', 0.41025641025641024)\n",
      "center for group 24 :  ('嫩江', 0.09448818897637795)\n",
      "center for group 25 :  ('杭州东', 0.37681159420289856)\n",
      "center for group 26 :  ('犀浦', 1.0)\n",
      "center for group 27 :  ('三亚', 0.4545454545454546)\n",
      "center for group 28 :  ('南城司', 0.14814814814814814)\n",
      "center for group 29 :  ('兰州', 0.10121457489878542)\n",
      "center for group 30 :  ('涉县', 0.19047619047619047)\n",
      "center for group 31 :  ('福州', 0.44897959183673464)\n"
     ]
    }
   ],
   "source": [
    "# 寻找每个子图中心度最大的节点\n",
    "i = 0\n",
    "for group in com:\n",
    "    i += 1\n",
    "    G_sub = nx.subgraph(G, group)\n",
    "    degree_centrality =  nx.degree_centrality(G_sub)\n",
    "    degree_centrality = sorted(degree_centrality.items(), key=lambda item: item[1], reverse=True)\n",
    "    print(\"center for group\",i,': ',degree_centrality[0])"
   ]
  },
  {
   "cell_type": "code",
   "execution_count": 10,
   "metadata": {},
   "outputs": [],
   "source": [
    "# 可视化(子图)\n",
    "G_sub = nx.subgraph(G, com[28])\n",
    "nx.draw_spring(G_sub, node_size=50, width=1, font_size=15, with_labels=True,font_color='#000000',alpha=0.3)\n",
    "plt.show()"
   ]
  },
  {
   "cell_type": "markdown",
   "metadata": {},
   "source": [
    "### GN算法"
   ]
  },
  {
   "cell_type": "markdown",
   "metadata": {},
   "source": [
    "Girvan-Newman 算法即是一种基于介数的社区发现算法，其基本思想是根据边介数中心性(edge betweenness)从大到小的顺序不断地将边从网络中移除直到整个网络分解为各个社区。因此，Girvan-Newman 算法实际上是一种分裂方法。\n",
    "\n",
    "Girvan-Newman 算法的基本流程如下： (1)计算网络中所有边的边介数； (2)找到边介数最高的边并将它从网络中移除； (3)重复步骤 2，直到每个节点成为一个独立的社区为止，即网络中没有边存在。"
   ]
  },
  {
   "cell_type": "code",
   "execution_count": 13,
   "metadata": {},
   "outputs": [],
   "source": [
    "import copy\n",
    "\n",
    "def all_results(G):\n",
    "    results = []\n",
    "    m = G.number_of_edges()\n",
    "    for i in range(m):\n",
    "        betweenness_dict = nx.edge_betweenness_centrality(G)\n",
    "        edge_max_betweenness = max(betweenness_dict.items(), key=lambda x:x[1])[0]\n",
    "        G.remove_edge(edge_max_betweenness[0], edge_max_betweenness[1])\n",
    "        community = [list(subgraph) for subgraph in nx.connected_components(G)]\n",
    "        community_dict = {node:0 for node in G.nodes()}\n",
    "        for i in range(len(community)):\n",
    "            each = community[i]\n",
    "            for node in each:\n",
    "                community_dict[node] = i\n",
    "        results.append(community_dict)\n",
    "    return results\n",
    "\n",
    "def GN_partition(G):\n",
    "    G_copy = copy.deepcopy(G)\n",
    "    results = all_results(G)\n",
    "    modularities = [community.modularity(results[i], G_copy) for i in range(len(results))]\n",
    "    max_modularity = max(modularities)\n",
    "    max_index = modularities.index(max_modularity)\n",
    "    max_result = results[max_index]\n",
    "    return list(max_result.values()), max_modularity"
   ]
  },
  {
   "cell_type": "code",
   "execution_count": null,
   "metadata": {},
   "outputs": [],
   "source": [
    "# 社区分割\n",
    "G_copy = copy.deepcopy(G)\n",
    "gn_part = GN_partition(G_copy)\n",
    "values = [gn_part.get(node) for node in G.nodes()]\n",
    "max(values) # 划分的社区数目"
   ]
  },
  {
   "cell_type": "code",
   "execution_count": 13,
   "metadata": {},
   "outputs": [
    {
     "ename": "NameError",
     "evalue": "name 'gn_part' is not defined",
     "output_type": "error",
     "traceback": [
      "\u001b[1;31m---------------------------------------------------------------------------\u001b[0m",
      "\u001b[1;31mNameError\u001b[0m                                 Traceback (most recent call last)",
      "\u001b[1;32m<ipython-input-13-e8800b57e62f>\u001b[0m in \u001b[0;36m<module>\u001b[1;34m\u001b[0m\n\u001b[1;32m----> 1\u001b[1;33m \u001b[0mgn_part\u001b[0m\u001b[1;33m\u001b[0m\u001b[1;33m\u001b[0m\u001b[0m\n\u001b[0m",
      "\u001b[1;31mNameError\u001b[0m: name 'gn_part' is not defined"
     ]
    }
   ],
   "source": [
    "gn_part"
   ]
  },
  {
   "cell_type": "code",
   "execution_count": null,
   "metadata": {},
   "outputs": [],
   "source": [
    "# 可视化(原图布局)\n",
    "pos = nx.spring_layout(G)\n",
    "nx.draw(G, pos, with_labels=False, node_size=3, width=0.5, node_color=gn_com)\n",
    "plt.show()"
   ]
  },
  {
   "cell_type": "code",
   "execution_count": null,
   "metadata": {},
   "outputs": [],
   "source": [
    "# 可视化(社区布局)\n",
    "V = [node for node in G.nodes()]\n",
    "com_dict = {node:com for node, com in zip(V, gn_com)}\n",
    "k = max(com_dict.values()) + 1\n",
    "com = [[V[i] for i in range(G.number_of_nodes()) if gn_com[i] == j] for j in range(k)]\n",
    "\n",
    "G_graph = nx.Graph()\n",
    "for each in com:\n",
    "  G_graph.update(nx.subgraph(G, each))\n",
    "color = [com_dict[node] for node in G_graph.nodes()]\n",
    "\n",
    "pos = nx.spring_layout(G_graph, seed=4)\n",
    "nx.draw(G, pos, with_labels=False, node_size=1, width=0.1, alpha=0.2)\n",
    "nx.draw(G_graph, pos, with_labels=True, node_color=color, node_size=20, width=0.3, alpha=0.3, font_size=15, font_color='#000000')\n",
    "plt.show()"
   ]
  },
  {
   "cell_type": "code",
   "execution_count": null,
   "metadata": {},
   "outputs": [],
   "source": [
    "# 寻找每个子图中心度最大的节点\n",
    "i = 0\n",
    "for group in com:\n",
    "    i += 1\n",
    "    G_sub = nx.subgraph(G, group)\n",
    "    degree_centrality =  nx.degree_centrality(G_sub)\n",
    "    degree_centrality = sorted(degree_centrality.items(), key=lambda item: item[1], reverse=True)\n",
    "    print(\"center for group\",i,': ',degree_centrality[0])"
   ]
  },
  {
   "cell_type": "code",
   "execution_count": null,
   "metadata": {},
   "outputs": [],
   "source": [
    "# 可视化(子图)\n",
    "G_sub = nx.subgraph(G, com[3])\n",
    "nx.draw_spring(G_sub, node_size=50, width=1, font_size=15, with_labels=True,font_color='#000000',alpha=0.3)\n",
    "plt.show()"
   ]
  },
  {
   "cell_type": "markdown",
   "metadata": {},
   "source": [
    "### Infomap算法（弃用）"
   ]
  },
  {
   "cell_type": "code",
   "execution_count": null,
   "metadata": {},
   "outputs": [],
   "source": [
    "\"\"\"\n",
    "def random_walk(G, pos):\n",
    "    infomapWrapper = infomap.Infomap(\"--two-level --silent\")\n",
    "    for e in G.edges():\n",
    "        infomapWrapper.addLink(*e)\n",
    "    infomapWrapper.run()\n",
    "    tree = infomapWrapper\n",
    "\n",
    "    partition = {}\n",
    "    for node in tree.iterTree():\n",
    "        partition[node.physicalId] = node.moduleIndex()\n",
    "\n",
    "    cmap = cm.get_cmap('viridis', max(partition.values()) + 1)\n",
    "    nx.draw_networkx_nodes(G, pos, partition.keys(), node_size=15,\n",
    "                           cmap=cmap, node_color=list(partition.values()))\n",
    "    nx.draw_networkx_edges(G, pos, alpha=0.5)\n",
    "    plt.show()\n",
    "\n",
    "    modularity = community.modularity(partition, G)\n",
    "    print([max(partition.values()) + 1, modularity])\n",
    "\n",
    "    return tree.numTopModules()\n",
    "\n",
    "\n",
    "infomapWrapper = infomap.Infomap(\"--two-level --silent\")\n",
    "list(G.edges())[1]\n",
    "for e in G.edges():\n",
    "    infomapWrapper.addLink(*e)\n",
    "infomapWrapper.run()\n",
    "tree = infomapWrapper\n",
    "\n",
    "partition = {}\n",
    "for node in tree.iterTree():\n",
    "    partition[node.physicalId] = node.moduleIndex()\n",
    "\n",
    "cmap = cm.get_cmap('viridis', max(partition.values()) + 1)\n",
    "nx.draw_networkx_nodes(G, pos, partition.keys(), node_size=15,\n",
    "                       cmap=cmap, node_color=list(partition.values()))\n",
    "nx.draw_networkx_edges(G, pos, alpha=0.5)\n",
    "plt.show()\n",
    "\n",
    "modularity = community.modularity(partition, G)\n",
    "print([max(partition.values()) + 1, modularity])\n",
    "\"\"\""
   ]
  },
  {
   "cell_type": "code",
   "execution_count": null,
   "metadata": {},
   "outputs": [],
   "source": []
  }
 ],
 "metadata": {
  "kernelspec": {
   "display_name": "Python 3",
   "language": "python",
   "name": "python3"
  },
  "language_info": {
   "codemirror_mode": {
    "name": "ipython",
    "version": 3
   },
   "file_extension": ".py",
   "mimetype": "text/x-python",
   "name": "python",
   "nbconvert_exporter": "python",
   "pygments_lexer": "ipython3",
   "version": "3.8.8"
  }
 },
 "nbformat": 4,
 "nbformat_minor": 4
}
